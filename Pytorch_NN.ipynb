{
  "nbformat": 4,
  "nbformat_minor": 0,
  "metadata": {
    "colab": {
      "provenance": [],
      "authorship_tag": "ABX9TyMiQdQmhaCXi8h+HEp1TWyz",
      "include_colab_link": true
    },
    "kernelspec": {
      "name": "python3",
      "display_name": "Python 3"
    },
    "language_info": {
      "name": "python"
    }
  },
  "cells": [
    {
      "cell_type": "markdown",
      "metadata": {
        "id": "view-in-github",
        "colab_type": "text"
      },
      "source": [
        "<a href=\"https://colab.research.google.com/github/Megha1230/ML/blob/main/Pytorch_NN.ipynb\" target=\"_parent\"><img src=\"https://colab.research.google.com/assets/colab-badge.svg\" alt=\"Open In Colab\"/></a>"
      ]
    },
    {
      "cell_type": "code",
      "execution_count": 12,
      "metadata": {
        "id": "fbQ4Nv8VmYy1"
      },
      "outputs": [],
      "source": [
        "import torch\n",
        "import torchvision.datasets as datasets\n",
        "import torchvision.transforms as transforms\n",
        "import torch.nn as nn\n",
        "import torch.optim as optim"
      ]
    },
    {
      "cell_type": "markdown",
      "source": [
        "Load and prepare the training data\n"
      ],
      "metadata": {
        "id": "p4ySlPgj3QNq"
      }
    },
    {
      "cell_type": "code",
      "source": [
        "transform=transforms.Compose([transforms.ToTensor(),transforms.Normalize((0.1307),(0.3081,))])"
      ],
      "metadata": {
        "id": "wSMruUcInsay"
      },
      "execution_count": 13,
      "outputs": []
    },
    {
      "cell_type": "code",
      "source": [
        "train_dataset=datasets.MNIST('data',train=True,download=True,transform=transform)"
      ],
      "metadata": {
        "id": "vhkKH17rou4e"
      },
      "execution_count": 14,
      "outputs": []
    },
    {
      "cell_type": "code",
      "source": [
        "train_loader=torch.utils.data.DataLoader(train_dataset,batch_size=64,shuffle=True)"
      ],
      "metadata": {
        "id": "x1_FXZViqcwW"
      },
      "execution_count": 15,
      "outputs": []
    },
    {
      "cell_type": "markdown",
      "source": [
        "Define the model"
      ],
      "metadata": {
        "id": "diGvhik83Ty2"
      }
    },
    {
      "cell_type": "code",
      "source": [
        "class Neural(nn.Module):\n",
        "  def __init__(self):\n",
        "    super(Neural,self).__init__()\n",
        "    self.fc1=nn.Linear(28*28,128)\n",
        "    self.fc2=nn.Linear(128,10)\n",
        "  def forward(self,x):\n",
        "    x=x.view(-1,28*28)\n",
        "    x=torch.relu(self.fc1(x))\n",
        "    x=self.fc2(x)\n",
        "    return x\n",
        "net=Neural()"
      ],
      "metadata": {
        "id": "prsBqcYRqq2S"
      },
      "execution_count": 16,
      "outputs": []
    },
    {
      "cell_type": "markdown",
      "source": [
        "Define the loss function and Optimizer\n"
      ],
      "metadata": {
        "id": "DPu8rR7S3Ukj"
      }
    },
    {
      "cell_type": "code",
      "source": [
        "criterion=nn.CrossEntropyLoss()\n",
        "optimizer=optim.SGD(net.parameters(),lr=0.01,momentum=0.5)"
      ],
      "metadata": {
        "id": "d7ZqVKDT2MjK"
      },
      "execution_count": 17,
      "outputs": []
    },
    {
      "cell_type": "markdown",
      "source": [
        "Train the model"
      ],
      "metadata": {
        "id": "dLXp6hVD3bDc"
      }
    },
    {
      "cell_type": "code",
      "source": [
        "num_epochs=10\n",
        "for epoch in range(num_epochs):\n",
        "  for batch_idx,(data,target) in enumerate (train_loader):\n",
        "    optimizer.zero_grad()\n",
        "    output=net(data)\n",
        "    loss =criterion(output,target)\n",
        "    loss.backward()\n",
        "    optimizer.step()\n",
        "    if batch_idx % 100==0:\n",
        "      print('Train Epoch: {} [{}/{} ({:.0f}%)]\\tLoss: {:.6f}'.format(\n",
        "                epoch, batch_idx * len(data), len(train_loader.dataset),\n",
        "                100. * batch_idx / len(train_loader), loss.item()))"
      ],
      "metadata": {
        "colab": {
          "base_uri": "https://localhost:8080/"
        },
        "id": "zMi5Zr3i2PWW",
        "outputId": "dddd99ad-8ec1-4876-b170-c5f63d354dd2"
      },
      "execution_count": 18,
      "outputs": [
        {
          "output_type": "stream",
          "name": "stdout",
          "text": [
            "Train Epoch: 0 [0/60000 (0%)]\tLoss: 2.263471\n",
            "Train Epoch: 0 [6400/60000 (11%)]\tLoss: 0.538817\n",
            "Train Epoch: 0 [12800/60000 (21%)]\tLoss: 0.442527\n",
            "Train Epoch: 0 [19200/60000 (32%)]\tLoss: 0.411856\n",
            "Train Epoch: 0 [25600/60000 (43%)]\tLoss: 0.284104\n",
            "Train Epoch: 0 [32000/60000 (53%)]\tLoss: 0.343202\n",
            "Train Epoch: 0 [38400/60000 (64%)]\tLoss: 0.562959\n",
            "Train Epoch: 0 [44800/60000 (75%)]\tLoss: 0.468602\n",
            "Train Epoch: 0 [51200/60000 (85%)]\tLoss: 0.369824\n",
            "Train Epoch: 0 [57600/60000 (96%)]\tLoss: 0.575138\n",
            "Train Epoch: 1 [0/60000 (0%)]\tLoss: 0.494515\n",
            "Train Epoch: 1 [6400/60000 (11%)]\tLoss: 0.297226\n",
            "Train Epoch: 1 [12800/60000 (21%)]\tLoss: 0.373171\n",
            "Train Epoch: 1 [19200/60000 (32%)]\tLoss: 0.157379\n",
            "Train Epoch: 1 [25600/60000 (43%)]\tLoss: 0.291372\n",
            "Train Epoch: 1 [32000/60000 (53%)]\tLoss: 0.101768\n",
            "Train Epoch: 1 [38400/60000 (64%)]\tLoss: 0.131009\n",
            "Train Epoch: 1 [44800/60000 (75%)]\tLoss: 0.220422\n",
            "Train Epoch: 1 [51200/60000 (85%)]\tLoss: 0.194210\n",
            "Train Epoch: 1 [57600/60000 (96%)]\tLoss: 0.252929\n",
            "Train Epoch: 2 [0/60000 (0%)]\tLoss: 0.115606\n",
            "Train Epoch: 2 [6400/60000 (11%)]\tLoss: 0.149795\n",
            "Train Epoch: 2 [12800/60000 (21%)]\tLoss: 0.232395\n",
            "Train Epoch: 2 [19200/60000 (32%)]\tLoss: 0.235594\n",
            "Train Epoch: 2 [25600/60000 (43%)]\tLoss: 0.089258\n",
            "Train Epoch: 2 [32000/60000 (53%)]\tLoss: 0.082426\n",
            "Train Epoch: 2 [38400/60000 (64%)]\tLoss: 0.202495\n",
            "Train Epoch: 2 [44800/60000 (75%)]\tLoss: 0.161881\n",
            "Train Epoch: 2 [51200/60000 (85%)]\tLoss: 0.115669\n",
            "Train Epoch: 2 [57600/60000 (96%)]\tLoss: 0.117710\n",
            "Train Epoch: 3 [0/60000 (0%)]\tLoss: 0.271337\n",
            "Train Epoch: 3 [6400/60000 (11%)]\tLoss: 0.155804\n",
            "Train Epoch: 3 [12800/60000 (21%)]\tLoss: 0.276602\n",
            "Train Epoch: 3 [19200/60000 (32%)]\tLoss: 0.186237\n",
            "Train Epoch: 3 [25600/60000 (43%)]\tLoss: 0.211106\n",
            "Train Epoch: 3 [32000/60000 (53%)]\tLoss: 0.129199\n",
            "Train Epoch: 3 [38400/60000 (64%)]\tLoss: 0.110565\n",
            "Train Epoch: 3 [44800/60000 (75%)]\tLoss: 0.084280\n",
            "Train Epoch: 3 [51200/60000 (85%)]\tLoss: 0.136653\n",
            "Train Epoch: 3 [57600/60000 (96%)]\tLoss: 0.328915\n",
            "Train Epoch: 4 [0/60000 (0%)]\tLoss: 0.165714\n",
            "Train Epoch: 4 [6400/60000 (11%)]\tLoss: 0.039244\n",
            "Train Epoch: 4 [12800/60000 (21%)]\tLoss: 0.054906\n",
            "Train Epoch: 4 [19200/60000 (32%)]\tLoss: 0.110242\n",
            "Train Epoch: 4 [25600/60000 (43%)]\tLoss: 0.092394\n",
            "Train Epoch: 4 [32000/60000 (53%)]\tLoss: 0.112598\n",
            "Train Epoch: 4 [38400/60000 (64%)]\tLoss: 0.060736\n",
            "Train Epoch: 4 [44800/60000 (75%)]\tLoss: 0.123272\n",
            "Train Epoch: 4 [51200/60000 (85%)]\tLoss: 0.091075\n",
            "Train Epoch: 4 [57600/60000 (96%)]\tLoss: 0.044858\n",
            "Train Epoch: 5 [0/60000 (0%)]\tLoss: 0.136908\n",
            "Train Epoch: 5 [6400/60000 (11%)]\tLoss: 0.194101\n",
            "Train Epoch: 5 [12800/60000 (21%)]\tLoss: 0.228090\n",
            "Train Epoch: 5 [19200/60000 (32%)]\tLoss: 0.078757\n",
            "Train Epoch: 5 [25600/60000 (43%)]\tLoss: 0.116653\n",
            "Train Epoch: 5 [32000/60000 (53%)]\tLoss: 0.149594\n",
            "Train Epoch: 5 [38400/60000 (64%)]\tLoss: 0.169909\n",
            "Train Epoch: 5 [44800/60000 (75%)]\tLoss: 0.056026\n",
            "Train Epoch: 5 [51200/60000 (85%)]\tLoss: 0.070447\n",
            "Train Epoch: 5 [57600/60000 (96%)]\tLoss: 0.168915\n",
            "Train Epoch: 6 [0/60000 (0%)]\tLoss: 0.049205\n",
            "Train Epoch: 6 [6400/60000 (11%)]\tLoss: 0.080531\n",
            "Train Epoch: 6 [12800/60000 (21%)]\tLoss: 0.114193\n",
            "Train Epoch: 6 [19200/60000 (32%)]\tLoss: 0.063380\n",
            "Train Epoch: 6 [25600/60000 (43%)]\tLoss: 0.077575\n",
            "Train Epoch: 6 [32000/60000 (53%)]\tLoss: 0.096337\n",
            "Train Epoch: 6 [38400/60000 (64%)]\tLoss: 0.165661\n",
            "Train Epoch: 6 [44800/60000 (75%)]\tLoss: 0.095682\n",
            "Train Epoch: 6 [51200/60000 (85%)]\tLoss: 0.072053\n",
            "Train Epoch: 6 [57600/60000 (96%)]\tLoss: 0.056843\n",
            "Train Epoch: 7 [0/60000 (0%)]\tLoss: 0.095080\n",
            "Train Epoch: 7 [6400/60000 (11%)]\tLoss: 0.118552\n",
            "Train Epoch: 7 [12800/60000 (21%)]\tLoss: 0.102026\n",
            "Train Epoch: 7 [19200/60000 (32%)]\tLoss: 0.076775\n",
            "Train Epoch: 7 [25600/60000 (43%)]\tLoss: 0.221251\n",
            "Train Epoch: 7 [32000/60000 (53%)]\tLoss: 0.179615\n",
            "Train Epoch: 7 [38400/60000 (64%)]\tLoss: 0.127863\n",
            "Train Epoch: 7 [44800/60000 (75%)]\tLoss: 0.096596\n",
            "Train Epoch: 7 [51200/60000 (85%)]\tLoss: 0.020227\n",
            "Train Epoch: 7 [57600/60000 (96%)]\tLoss: 0.018857\n",
            "Train Epoch: 8 [0/60000 (0%)]\tLoss: 0.045496\n",
            "Train Epoch: 8 [6400/60000 (11%)]\tLoss: 0.099096\n",
            "Train Epoch: 8 [12800/60000 (21%)]\tLoss: 0.070846\n",
            "Train Epoch: 8 [19200/60000 (32%)]\tLoss: 0.050582\n",
            "Train Epoch: 8 [25600/60000 (43%)]\tLoss: 0.032057\n",
            "Train Epoch: 8 [32000/60000 (53%)]\tLoss: 0.068439\n",
            "Train Epoch: 8 [38400/60000 (64%)]\tLoss: 0.071729\n",
            "Train Epoch: 8 [44800/60000 (75%)]\tLoss: 0.026991\n",
            "Train Epoch: 8 [51200/60000 (85%)]\tLoss: 0.055648\n",
            "Train Epoch: 8 [57600/60000 (96%)]\tLoss: 0.016693\n",
            "Train Epoch: 9 [0/60000 (0%)]\tLoss: 0.068647\n",
            "Train Epoch: 9 [6400/60000 (11%)]\tLoss: 0.030765\n",
            "Train Epoch: 9 [12800/60000 (21%)]\tLoss: 0.055293\n",
            "Train Epoch: 9 [19200/60000 (32%)]\tLoss: 0.025249\n",
            "Train Epoch: 9 [25600/60000 (43%)]\tLoss: 0.080804\n",
            "Train Epoch: 9 [32000/60000 (53%)]\tLoss: 0.059919\n",
            "Train Epoch: 9 [38400/60000 (64%)]\tLoss: 0.051317\n",
            "Train Epoch: 9 [44800/60000 (75%)]\tLoss: 0.053461\n",
            "Train Epoch: 9 [51200/60000 (85%)]\tLoss: 0.136965\n",
            "Train Epoch: 9 [57600/60000 (96%)]\tLoss: 0.014483\n"
          ]
        }
      ]
    },
    {
      "cell_type": "markdown",
      "source": [
        "Load the test data and test the model"
      ],
      "metadata": {
        "id": "M8XiCDP43esX"
      }
    },
    {
      "cell_type": "code",
      "source": [
        "test_dataset=datasets.MNIST('data',train=False,download=True,transform=transform)\n",
        "test_loader=torch.utils.data.DataLoader(test_dataset,batch_size=1000,shuffle=True)\n",
        "correct=0\n",
        "total=0\n",
        "with torch.no_grad():\n",
        "  output=net(data)\n",
        "  _,predicted=torch.max(output.data,1)\n",
        "  total+=target.size(0)\n",
        "  correct+=(predicted==target).sum().item()"
      ],
      "metadata": {
        "id": "K7kOOavY2Skk"
      },
      "execution_count": 19,
      "outputs": []
    },
    {
      "cell_type": "markdown",
      "source": [
        "ACCURACY\n"
      ],
      "metadata": {
        "id": "Sjh08gMY3fdH"
      }
    },
    {
      "cell_type": "code",
      "source": [
        "print('Accuracy of the network on the 10000 test images: %d %%' % (\n",
        "    100 * correct / total))"
      ],
      "metadata": {
        "colab": {
          "base_uri": "https://localhost:8080/"
        },
        "id": "sWac48RY2YPE",
        "outputId": "1dea7829-d419-454f-aa67-d18998611f2a"
      },
      "execution_count": 20,
      "outputs": [
        {
          "output_type": "stream",
          "name": "stdout",
          "text": [
            "Accuracy of the network on the 10000 test images: 100 %\n"
          ]
        }
      ]
    }
  ]
}